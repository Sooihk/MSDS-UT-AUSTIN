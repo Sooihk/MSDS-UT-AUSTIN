{
 "cells": [
  {
   "cell_type": "markdown",
   "metadata": {},
   "source": [
    "Quiz 11\n",
    "\n",
    "In the simplified version of the SGD update equation, the relationship between momentum $\\rho$ and the batch size $B$ is given by the term $\\rho^{1/B}$. Specifically, the relationship is in the form $\\rho^{1/B}$, where $B$ is the batch size.\n",
    "\n",
    "Now, let's calculate the equivalent momentum $\\rho'$ for a new batch size $B'$ such that the gradient updates are equivalent. The formula for this relationship is:\n",
    "\n",
    "$$ \\rho' = \\rho^{(B'/B)} $$\n",
    "\n",
    "Given that the original momentum $\\rho = 0.9$ and original batch size $B = 100$, and we want to find $\\rho'$ for $B' = 200$, the calculation is as follows:\n",
    "\n",
    "$$ \\rho' = 0.9^{(200/100)} $$\n"
   ]
  },
  {
   "cell_type": "code",
   "execution_count": 1,
   "metadata": {},
   "outputs": [
    {
     "name": "stdout",
     "output_type": "stream",
     "text": [
      "Equivalent momentum for B = 200: 0.81\n"
     ]
    }
   ],
   "source": [
    "# Given values\n",
    "rho = 0.9\n",
    "B_original = 100\n",
    "B_new = 200\n",
    "\n",
    "# Calculate equivalent momentum\n",
    "rho_prime = rho ** (B_new / B_original)\n",
    "\n",
    "# Round to two decimal digits\n",
    "rho_prime = round(rho_prime, 2)\n",
    "\n",
    "print(\"Equivalent momentum for B = 200:\", rho_prime)"
   ]
  },
  {
   "cell_type": "code",
   "execution_count": 2,
   "metadata": {},
   "outputs": [
    {
     "name": "stdout",
     "output_type": "stream",
     "text": [
      "Equivalent momentum for B = 1000: 0.35\n"
     ]
    }
   ],
   "source": [
    "# Given values\n",
    "rho = 0.9\n",
    "B_original = 100\n",
    "B_new = 1000\n",
    "\n",
    "# Calculate equivalent momentum\n",
    "rho_prime = rho ** (B_new / B_original)\n",
    "\n",
    "# Round to two decimal digits\n",
    "rho_prime = round(rho_prime, 2)\n",
    "\n",
    "print(\"Equivalent momentum for B = 1000:\", rho_prime)\n"
   ]
  },
  {
   "cell_type": "code",
   "execution_count": 3,
   "metadata": {},
   "outputs": [
    {
     "name": "stdout",
     "output_type": "stream",
     "text": [
      "Equivalent momentum for B = 1000: 0.99\n"
     ]
    }
   ],
   "source": [
    "# Given values\n",
    "rho = 0.9\n",
    "B_original = 100\n",
    "B_new = 10\n",
    "\n",
    "# Calculate equivalent momentum\n",
    "rho_prime = rho ** (B_new / B_original)\n",
    "\n",
    "# Round to two decimal digits\n",
    "rho_prime = round(rho_prime, 2)\n",
    "\n",
    "print(\"Equivalent momentum for B = 1000:\", rho_prime)\n"
   ]
  }
 ],
 "metadata": {
  "kernelspec": {
   "display_name": "Python 3",
   "language": "python",
   "name": "python3"
  },
  "language_info": {
   "codemirror_mode": {
    "name": "ipython",
    "version": 3
   },
   "file_extension": ".py",
   "mimetype": "text/x-python",
   "name": "python",
   "nbconvert_exporter": "python",
   "pygments_lexer": "ipython3",
   "version": "3.9.6"
  }
 },
 "nbformat": 4,
 "nbformat_minor": 2
}
