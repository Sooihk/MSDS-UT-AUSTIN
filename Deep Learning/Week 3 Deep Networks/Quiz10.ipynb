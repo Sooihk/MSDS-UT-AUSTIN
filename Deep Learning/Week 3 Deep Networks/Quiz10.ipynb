{
 "cells": [
  {
   "cell_type": "markdown",
   "metadata": {},
   "source": [
    "# Quiz 10"
   ]
  },
  {
   "cell_type": "code",
   "execution_count": 7,
   "metadata": {},
   "outputs": [
    {
     "name": "stdout",
     "output_type": "stream",
     "text": [
      "6.0\n"
     ]
    }
   ],
   "source": [
    "import numpy as np\n",
    "x = [1,3,6]\n",
    "y = [4,3,7]\n",
    "w = 1\n",
    "dldw = []\n",
    "\n",
    "L = (1/3) * (0.5*(w-4)**2 + 0.5*(3*w-3)**2 + 0.5*(6*w-7)**2)\n",
    "dLdw = (1/3)*(w-4) + (3*w-3) + 2*(6*w-7)\n",
    "for i in range(len(x)):\n",
    "    deriv = (w*x[i]-y[i])*x[i]\n",
    "    dldw.append(deriv)\n",
    "\n",
    "dldw = np.array(dldw)\n",
    "output = ((dldw - dLdw)**2).mean()\n",
    "print(output)"
   ]
  }
 ],
 "metadata": {
  "kernelspec": {
   "display_name": ".venv",
   "language": "python",
   "name": "python3"
  },
  "language_info": {
   "codemirror_mode": {
    "name": "ipython",
    "version": 3
   },
   "file_extension": ".py",
   "mimetype": "text/x-python",
   "name": "python",
   "nbconvert_exporter": "python",
   "pygments_lexer": "ipython3",
   "version": "3.11.4"
  }
 },
 "nbformat": 4,
 "nbformat_minor": 2
}
