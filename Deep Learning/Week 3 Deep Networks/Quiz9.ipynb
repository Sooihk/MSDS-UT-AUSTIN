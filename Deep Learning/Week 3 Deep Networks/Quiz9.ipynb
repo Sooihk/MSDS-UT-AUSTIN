{
 "cells": [
  {
   "cell_type": "markdown",
   "metadata": {},
   "source": [
    "## Quiz 9\n",
    "### Question 2"
   ]
  },
  {
   "cell_type": "code",
   "execution_count": 1,
   "metadata": {},
   "outputs": [
    {
     "name": "stdout",
     "output_type": "stream",
     "text": [
      "None\n"
     ]
    }
   ],
   "source": [
    "# Import necessary symbols and functions from the sympy library\n",
    "from sympy import symbols, Piecewise\n",
    "\n",
    "# Define symbols for variables x, y, u, v, w\n",
    "x, y, u, v, w = symbols('x y u v w')\n",
    "\n",
    "# Define a custom ReLU (Rectified Linear Unit) function\n",
    "def custom_relu(x):\n",
    "    return Piecewise((0, x < 0), (x, x >= 0))\n",
    "#This block defines a custom ReLU (Rectified Linear Unit) function named custom_relu. It uses the Piecewise class to define the ReLU function, \n",
    "#which returns 0 for input values less than 0 and the input value itself for values greater than or equal to 0.\n",
    "\n",
    "\n",
    "# Define the activations f and g using the ReLU function\n",
    "f = custom_relu(2*x + 2 - 1)\n",
    "g = custom_relu(3 - 2*x - 2*y)\n",
    "\n",
    "# Define the output z in terms of u, v, f, g, and w\n",
    "z = u*f + v*g + w\n",
    "\n",
    "# Define the XOR truth table conditions\n",
    "conditions = [\n",
    "    (0, 0, 0),  # For x=0, y=0, the output should be 0\n",
    "    (0, 1, 1),  # For x=0, y=1, the output should be 1\n",
    "    (1, 0, 1),  # For x=1, y=0, the output should be 1\n",
    "    (1, 1, 0)   # For x=1, y=1, the output should be 0\n",
    "]\n",
    "\n",
    "# Check if there are values for u, v, and w that satisfy the XOR conditions\n",
    "satisfying_values = None\n",
    "for condition in conditions:\n",
    "    # Substitute x and y values into the output equation\n",
    "    equation = z.subs({x: condition[0], y: condition[1]})\n",
    "    \n",
    "    # Check if the substituted values satisfy the XOR condition\n",
    "    if equation != condition[2]:\n",
    "        break\n",
    "else:\n",
    "    # If the loop completes without breaking, all conditions are satisfied\n",
    "    satisfying_values = {u: 1, v: -1, w: 0}  # Example values, you can choose others\n",
    "\n",
    "# Print the satisfying values (or None if no solution)\n",
    "print(satisfying_values)\n"
   ]
  },
  {
   "cell_type": "code",
   "execution_count": 5,
   "metadata": {},
   "outputs": [
    {
     "data": {
      "text/plain": [
       "[]"
      ]
     },
     "execution_count": 5,
     "metadata": {},
     "output_type": "execute_result"
    }
   ],
   "source": [
    "from scipy.optimize import minimize\n",
    "\n",
    "# Define ReLU function\n",
    "def custom_relu(x):\n",
    "    return max(0, x)\n",
    "\n",
    "# Define XOR function\n",
    "def xor_function(params, x, y):\n",
    "    u, v, w = params\n",
    "    f = custom_relu(2 * x + 2 - 1)\n",
    "    g = custom_relu(3 - 2 * x - 2 * y)\n",
    "    z = u * f + v * g + w\n",
    "    return z\n",
    "\n",
    "# Define XOR truth table\n",
    "truth_table = [\n",
    "    (0, 0, 0),\n",
    "    (0, 1, 1),\n",
    "    (1, 0, 1),\n",
    "    (1, 1, 0),\n",
    "]\n",
    "\n",
    "# Define loss function to be minimized\n",
    "def loss(params):\n",
    "    total_loss = 0\n",
    "    for x, y, target in truth_table:\n",
    "        predicted = xor_function(params, x, y)\n",
    "        total_loss += (predicted - target) ** 2\n",
    "    return total_loss\n",
    "\n",
    "# Initial guess for parameters\n",
    "initial_params = [1, 1, 1]\n",
    "\n",
    "# Minimize the loss function\n",
    "result = minimize(loss, initial_params, method='BFGS')\n",
    "\n",
    "# Extract optimal parameters\n",
    "optimal_params = result.x\n",
    "print(\"Optimal Parameters:\", optimal_params)\n"
   ]
  }
 ],
 "metadata": {
  "kernelspec": {
   "display_name": "Python 3",
   "language": "python",
   "name": "python3"
  },
  "language_info": {
   "codemirror_mode": {
    "name": "ipython",
    "version": 3
   },
   "file_extension": ".py",
   "mimetype": "text/x-python",
   "name": "python",
   "nbconvert_exporter": "python",
   "pygments_lexer": "ipython3",
   "version": "3.10.4"
  }
 },
 "nbformat": 4,
 "nbformat_minor": 2
}
